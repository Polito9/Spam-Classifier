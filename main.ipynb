{
 "cells": [
  {
   "cell_type": "markdown",
   "id": "06ce9aa7",
   "metadata": {},
   "source": [
    "<p align=\"center\">\n",
    "<b>Instituto Tecnológico y de Estudios Superiores de Monterrey</b><br>\n",
    "<b>Análisis de métodos de razonamiento e incertidumbre (Gpo 102)</b><br>\n",
    "Actividad PBL 1<br><br>\n",
    "Profesor: Hugo Eduardo Ramírez Jaime<br><br>\n",
    "Realizado por:<br>\n",
    "Diego Colín Reyes A01666354<br>\n",
    "Aldo Reséndiz Cravioto A01625395<br>\n",
    "Daniel Alejandro López Martínez A01770442<br>\n",
    "Eduardo Ramírez Almanza A01660118\n",
    "</p>\n"
   ]
  },
  {
   "cell_type": "code",
   "execution_count": 2,
   "id": "921ace1f",
   "metadata": {},
   "outputs": [],
   "source": [
    "import pandas as pd\n",
    "from nltk.tokenize import word_tokenize\n",
    "from nltk.corpus import stopwords\n",
    "from nltk.stem import  PorterStemmer\n",
    "from collections import defaultdict\n",
    "from sklearn.model_selection import train_test_split\n",
    "from collections import Counter\n",
    "import string"
   ]
  },
  {
   "cell_type": "markdown",
   "id": "2d601415",
   "metadata": {},
   "source": [
    "## Problem Statement\n",
    "\n",
    "We have a message ( m = (w1, w2, ..., wn) ),  \n",
    "where ( (w1, w2, ..., wn) ) is a set of unique words contained in the message.  \n",
    "We need to find:\n",
    "\n",
    "P(spam | w1 ⋂ w2 ⋂ ... ⋂ wn) = (P(w1 ⋂ w2 ⋂ ... ⋂ wn | spam) * P(spam)) / P(w1 ⋂ w2 ⋂ ... ⋂ wn)\n",
    "\n",
    "\n",
    "If we assume that the occurrence of a word is **independent** of all other words,  we can simplify the above expression to:\n",
    "\n",
    "(P(w1 | spam) * P(w2 | spam) * ... * P(wn | spam) * P(spam))\n",
    "/ P(w1) * P(w2) * ... * P(wn)\n",
    "\n",
    "\n",
    "In order to classify, we have to determine which is greater:\n",
    "\n",
    "\n",
    "P(spam | w1 ⋂ w2 ⋂ ... ⋂ wn) versus P(¬ spam | w1 ⋂ w2 ⋂ ... ⋂ wn)\n",
    "\n"
   ]
  },
  {
   "cell_type": "markdown",
   "id": "08b9c8ac",
   "metadata": {},
   "source": [
    "## Data Preparation"
   ]
  },
  {
   "cell_type": "markdown",
   "id": "c9344cd7",
   "metadata": {},
   "source": [
    "We can see we do not need the columns ‘Unnamed: 2’, ‘Unnamed: 3’ and ‘Unnamed: 4’, so we are going to remove them. Next, we rename the column ‘v1’ as ‘label’ and ‘v2’ as ‘message’. ‘ham’ (ham being authentic messages) is replaced by 0 and ‘spam’ (fake messages) is replaced by 1 in the ‘label’ column."
   ]
  },
  {
   "cell_type": "code",
   "execution_count": 3,
   "id": "4ba107e5",
   "metadata": {},
   "outputs": [
    {
     "data": {
      "text/html": [
       "<div>\n",
       "<style scoped>\n",
       "    .dataframe tbody tr th:only-of-type {\n",
       "        vertical-align: middle;\n",
       "    }\n",
       "\n",
       "    .dataframe tbody tr th {\n",
       "        vertical-align: top;\n",
       "    }\n",
       "\n",
       "    .dataframe thead th {\n",
       "        text-align: right;\n",
       "    }\n",
       "</style>\n",
       "<table border=\"1\" class=\"dataframe\">\n",
       "  <thead>\n",
       "    <tr style=\"text-align: right;\">\n",
       "      <th></th>\n",
       "      <th>v1</th>\n",
       "      <th>v2</th>\n",
       "      <th>Unnamed: 2</th>\n",
       "      <th>Unnamed: 3</th>\n",
       "      <th>Unnamed: 4</th>\n",
       "    </tr>\n",
       "  </thead>\n",
       "  <tbody>\n",
       "    <tr>\n",
       "      <th>0</th>\n",
       "      <td>ham</td>\n",
       "      <td>Go until jurong point, crazy.. Available only ...</td>\n",
       "      <td>NaN</td>\n",
       "      <td>NaN</td>\n",
       "      <td>NaN</td>\n",
       "    </tr>\n",
       "    <tr>\n",
       "      <th>1</th>\n",
       "      <td>ham</td>\n",
       "      <td>Ok lar... Joking wif u oni...</td>\n",
       "      <td>NaN</td>\n",
       "      <td>NaN</td>\n",
       "      <td>NaN</td>\n",
       "    </tr>\n",
       "    <tr>\n",
       "      <th>2</th>\n",
       "      <td>spam</td>\n",
       "      <td>Free entry in 2 a wkly comp to win FA Cup fina...</td>\n",
       "      <td>NaN</td>\n",
       "      <td>NaN</td>\n",
       "      <td>NaN</td>\n",
       "    </tr>\n",
       "    <tr>\n",
       "      <th>3</th>\n",
       "      <td>ham</td>\n",
       "      <td>U dun say so early hor... U c already then say...</td>\n",
       "      <td>NaN</td>\n",
       "      <td>NaN</td>\n",
       "      <td>NaN</td>\n",
       "    </tr>\n",
       "    <tr>\n",
       "      <th>4</th>\n",
       "      <td>ham</td>\n",
       "      <td>Nah I don't think he goes to usf, he lives aro...</td>\n",
       "      <td>NaN</td>\n",
       "      <td>NaN</td>\n",
       "      <td>NaN</td>\n",
       "    </tr>\n",
       "    <tr>\n",
       "      <th>...</th>\n",
       "      <td>...</td>\n",
       "      <td>...</td>\n",
       "      <td>...</td>\n",
       "      <td>...</td>\n",
       "      <td>...</td>\n",
       "    </tr>\n",
       "    <tr>\n",
       "      <th>5567</th>\n",
       "      <td>spam</td>\n",
       "      <td>This is the 2nd time we have tried 2 contact u...</td>\n",
       "      <td>NaN</td>\n",
       "      <td>NaN</td>\n",
       "      <td>NaN</td>\n",
       "    </tr>\n",
       "    <tr>\n",
       "      <th>5568</th>\n",
       "      <td>ham</td>\n",
       "      <td>Will Ì_ b going to esplanade fr home?</td>\n",
       "      <td>NaN</td>\n",
       "      <td>NaN</td>\n",
       "      <td>NaN</td>\n",
       "    </tr>\n",
       "    <tr>\n",
       "      <th>5569</th>\n",
       "      <td>ham</td>\n",
       "      <td>Pity, * was in mood for that. So...any other s...</td>\n",
       "      <td>NaN</td>\n",
       "      <td>NaN</td>\n",
       "      <td>NaN</td>\n",
       "    </tr>\n",
       "    <tr>\n",
       "      <th>5570</th>\n",
       "      <td>ham</td>\n",
       "      <td>The guy did some bitching but I acted like i'd...</td>\n",
       "      <td>NaN</td>\n",
       "      <td>NaN</td>\n",
       "      <td>NaN</td>\n",
       "    </tr>\n",
       "    <tr>\n",
       "      <th>5571</th>\n",
       "      <td>ham</td>\n",
       "      <td>Rofl. Its true to its name</td>\n",
       "      <td>NaN</td>\n",
       "      <td>NaN</td>\n",
       "      <td>NaN</td>\n",
       "    </tr>\n",
       "  </tbody>\n",
       "</table>\n",
       "<p>5572 rows × 5 columns</p>\n",
       "</div>"
      ],
      "text/plain": [
       "        v1                                                 v2 Unnamed: 2  \\\n",
       "0      ham  Go until jurong point, crazy.. Available only ...        NaN   \n",
       "1      ham                      Ok lar... Joking wif u oni...        NaN   \n",
       "2     spam  Free entry in 2 a wkly comp to win FA Cup fina...        NaN   \n",
       "3      ham  U dun say so early hor... U c already then say...        NaN   \n",
       "4      ham  Nah I don't think he goes to usf, he lives aro...        NaN   \n",
       "...    ...                                                ...        ...   \n",
       "5567  spam  This is the 2nd time we have tried 2 contact u...        NaN   \n",
       "5568   ham              Will Ì_ b going to esplanade fr home?        NaN   \n",
       "5569   ham  Pity, * was in mood for that. So...any other s...        NaN   \n",
       "5570   ham  The guy did some bitching but I acted like i'd...        NaN   \n",
       "5571   ham                         Rofl. Its true to its name        NaN   \n",
       "\n",
       "     Unnamed: 3 Unnamed: 4  \n",
       "0           NaN        NaN  \n",
       "1           NaN        NaN  \n",
       "2           NaN        NaN  \n",
       "3           NaN        NaN  \n",
       "4           NaN        NaN  \n",
       "...         ...        ...  \n",
       "5567        NaN        NaN  \n",
       "5568        NaN        NaN  \n",
       "5569        NaN        NaN  \n",
       "5570        NaN        NaN  \n",
       "5571        NaN        NaN  \n",
       "\n",
       "[5572 rows x 5 columns]"
      ]
     },
     "execution_count": 3,
     "metadata": {},
     "output_type": "execute_result"
    }
   ],
   "source": [
    "data = pd.read_csv('spam.csv', encoding=\"latin1\")\n",
    "\n",
    "data"
   ]
  },
  {
   "cell_type": "code",
   "execution_count": 4,
   "id": "f9042298",
   "metadata": {},
   "outputs": [
    {
     "name": "stderr",
     "output_type": "stream",
     "text": [
      "C:\\Users\\aldin\\AppData\\Local\\Temp\\ipykernel_24796\\435384640.py:6: FutureWarning: A value is trying to be set on a copy of a DataFrame or Series through chained assignment using an inplace method.\n",
      "The behavior will change in pandas 3.0. This inplace method will never work because the intermediate object on which we are setting values always behaves as a copy.\n",
      "\n",
      "For example, when doing 'df[col].method(value, inplace=True)', try using 'df.method({col: value}, inplace=True)' or df[col] = df[col].method(value) instead, to perform the operation inplace on the original object.\n",
      "\n",
      "\n",
      "  data['label'].replace('ham', 0, inplace=True)\n",
      "C:\\Users\\aldin\\AppData\\Local\\Temp\\ipykernel_24796\\435384640.py:7: FutureWarning: A value is trying to be set on a copy of a DataFrame or Series through chained assignment using an inplace method.\n",
      "The behavior will change in pandas 3.0. This inplace method will never work because the intermediate object on which we are setting values always behaves as a copy.\n",
      "\n",
      "For example, when doing 'df[col].method(value, inplace=True)', try using 'df.method({col: value}, inplace=True)' or df[col] = df[col].method(value) instead, to perform the operation inplace on the original object.\n",
      "\n",
      "\n",
      "  data['label'].replace('spam', 1, inplace=True)\n",
      "C:\\Users\\aldin\\AppData\\Local\\Temp\\ipykernel_24796\\435384640.py:7: FutureWarning: Downcasting behavior in `replace` is deprecated and will be removed in a future version. To retain the old behavior, explicitly call `result.infer_objects(copy=False)`. To opt-in to the future behavior, set `pd.set_option('future.no_silent_downcasting', True)`\n",
      "  data['label'].replace('spam', 1, inplace=True)\n"
     ]
    },
    {
     "data": {
      "text/html": [
       "<div>\n",
       "<style scoped>\n",
       "    .dataframe tbody tr th:only-of-type {\n",
       "        vertical-align: middle;\n",
       "    }\n",
       "\n",
       "    .dataframe tbody tr th {\n",
       "        vertical-align: top;\n",
       "    }\n",
       "\n",
       "    .dataframe thead th {\n",
       "        text-align: right;\n",
       "    }\n",
       "</style>\n",
       "<table border=\"1\" class=\"dataframe\">\n",
       "  <thead>\n",
       "    <tr style=\"text-align: right;\">\n",
       "      <th></th>\n",
       "      <th>label</th>\n",
       "      <th>message</th>\n",
       "    </tr>\n",
       "  </thead>\n",
       "  <tbody>\n",
       "    <tr>\n",
       "      <th>0</th>\n",
       "      <td>0</td>\n",
       "      <td>Go until jurong point, crazy.. Available only ...</td>\n",
       "    </tr>\n",
       "    <tr>\n",
       "      <th>1</th>\n",
       "      <td>0</td>\n",
       "      <td>Ok lar... Joking wif u oni...</td>\n",
       "    </tr>\n",
       "    <tr>\n",
       "      <th>2</th>\n",
       "      <td>1</td>\n",
       "      <td>Free entry in 2 a wkly comp to win FA Cup fina...</td>\n",
       "    </tr>\n",
       "    <tr>\n",
       "      <th>3</th>\n",
       "      <td>0</td>\n",
       "      <td>U dun say so early hor... U c already then say...</td>\n",
       "    </tr>\n",
       "    <tr>\n",
       "      <th>4</th>\n",
       "      <td>0</td>\n",
       "      <td>Nah I don't think he goes to usf, he lives aro...</td>\n",
       "    </tr>\n",
       "    <tr>\n",
       "      <th>...</th>\n",
       "      <td>...</td>\n",
       "      <td>...</td>\n",
       "    </tr>\n",
       "    <tr>\n",
       "      <th>5567</th>\n",
       "      <td>1</td>\n",
       "      <td>This is the 2nd time we have tried 2 contact u...</td>\n",
       "    </tr>\n",
       "    <tr>\n",
       "      <th>5568</th>\n",
       "      <td>0</td>\n",
       "      <td>Will Ì_ b going to esplanade fr home?</td>\n",
       "    </tr>\n",
       "    <tr>\n",
       "      <th>5569</th>\n",
       "      <td>0</td>\n",
       "      <td>Pity, * was in mood for that. So...any other s...</td>\n",
       "    </tr>\n",
       "    <tr>\n",
       "      <th>5570</th>\n",
       "      <td>0</td>\n",
       "      <td>The guy did some bitching but I acted like i'd...</td>\n",
       "    </tr>\n",
       "    <tr>\n",
       "      <th>5571</th>\n",
       "      <td>0</td>\n",
       "      <td>Rofl. Its true to its name</td>\n",
       "    </tr>\n",
       "  </tbody>\n",
       "</table>\n",
       "<p>5572 rows × 2 columns</p>\n",
       "</div>"
      ],
      "text/plain": [
       "      label                                            message\n",
       "0         0  Go until jurong point, crazy.. Available only ...\n",
       "1         0                      Ok lar... Joking wif u oni...\n",
       "2         1  Free entry in 2 a wkly comp to win FA Cup fina...\n",
       "3         0  U dun say so early hor... U c already then say...\n",
       "4         0  Nah I don't think he goes to usf, he lives aro...\n",
       "...     ...                                                ...\n",
       "5567      1  This is the 2nd time we have tried 2 contact u...\n",
       "5568      0              Will Ì_ b going to esplanade fr home?\n",
       "5569      0  Pity, * was in mood for that. So...any other s...\n",
       "5570      0  The guy did some bitching but I acted like i'd...\n",
       "5571      0                         Rofl. Its true to its name\n",
       "\n",
       "[5572 rows x 2 columns]"
      ]
     },
     "execution_count": 4,
     "metadata": {},
     "output_type": "execute_result"
    }
   ],
   "source": [
    "#Renaming columns and labeling data with 0's and 1's\n",
    "data = data[['v1', 'v2']]\n",
    "\n",
    "data = data.rename(columns={'v1':'label', 'v2':'message'})\n",
    "\n",
    "data['label'].replace('ham', 0, inplace=True)\n",
    "data['label'].replace('spam', 1, inplace=True)\n",
    "\n",
    "data"
   ]
  },
  {
   "cell_type": "markdown",
   "id": "69a7f6b9",
   "metadata": {},
   "source": [
    "We split the data into the training dataset and test dataset. We used the training dataset to train the model and then it was tested on the test dataset. For this project, we used 75% of the dataset as a training dataset and the rest as a test dataset. Selection of this 75% of the data is uniformly random.\n",
    "\n"
   ]
  },
  {
   "cell_type": "code",
   "execution_count": null,
   "id": "d9149d9e",
   "metadata": {},
   "outputs": [],
   "source": [
    "#Making data lowercase\n",
    "data['message'] = data['message'].str.lower()\n",
    "\n",
    "#Dividing data in train and test\n",
    "train, test = train_test_split(data, test_size=0.25, random_state=65, shuffle=True, stratify=data['label'])"
   ]
  },
  {
   "cell_type": "markdown",
   "id": "4c74e496",
   "metadata": {},
   "source": [
    "## Modelling"
   ]
  },
  {
   "cell_type": "markdown",
   "id": "3fec0dee",
   "metadata": {},
   "source": [
    "#### Train & Test"
   ]
  },
  {
   "cell_type": "code",
   "execution_count": null,
   "id": "b01f465e",
   "metadata": {},
   "outputs": [],
   "source": [
    "#To stemming the messages and removing stopwords\n",
    "stemmer = PorterStemmer()\n",
    "\n",
    "sw = stopwords.words('english')\n",
    "\n",
    "def stem_text(msg):\n",
    "    if pd.isna(msg):\n",
    "        return None\n",
    "    # Remove punctuation\n",
    "    msg = ''.join([char for char in msg if char not in string.punctuation])\n",
    "    \n",
    "    tokens = word_tokenize(msg)\n",
    "    # Filter out tokens that are just spaces or empty\n",
    "    tokens = [token for token in tokens if token.strip()]\n",
    "\n",
    "    stemmed_tokens = [stemmer.stem(word) for word in tokens if word not in sw]\n",
    "\n",
    "    return stemmed_tokens"
   ]
  },
  {
   "cell_type": "code",
   "execution_count": null,
   "id": "8bb4cdbf",
   "metadata": {},
   "outputs": [
    {
     "name": "stdout",
     "output_type": "stream",
     "text": [
      "Top 25 spam words:\n",
      "[('call', 366), ('free', 216), ('2', 173), ('txt', 163), ('u', 147), ('ur', 144), ('text', 138), ('mobil', 135), ('4', 119), ('claim', 115), ('stop', 113), ('repli', 109), ('prize', 94), ('get', 87), ('tone', 73), ('servic', 72), ('send', 69), ('new', 69), ('nokia', 68), ('award', 66), ('urgent', 63), ('week', 62), ('cash', 62), ('win', 61), ('contact', 61)]\n"
     ]
    }
   ],
   "source": [
    "\n",
    "# Count most common words among spam messages only\n",
    "spam_messages = data.loc[data['label'] == 1, 'message']\n",
    "\n",
    "spam_word_list = []\n",
    "for msg in spam_messages:\n",
    "    stemmed = stem_text(msg)\n",
    "    if stemmed:\n",
    "        spam_word_list.extend(stemmed)\n",
    "\n",
    "spam_word_frequencies = Counter(spam_word_list)\n",
    "print(\"Top 25 spam words:\")\n",
    "print(spam_word_frequencies.most_common(25))\n"
   ]
  },
  {
   "cell_type": "code",
   "execution_count": null,
   "id": "004ce69b",
   "metadata": {},
   "outputs": [],
   "source": [
    "#Dict to save the ocurrences of each word in spam and ham and all\n",
    "\n",
    "spam_ocurr = defaultdict(int)\n",
    "ham_ocurr = defaultdict(int)\n",
    "all_ocurr = defaultdict(int)\n",
    "\n",
    "#Filling the three dictionaries\n",
    "total_words = 0\n",
    "spam_words = 0\n",
    "ham_words = 0\n",
    "\n",
    "#Filling the dictionaries with the frecuency of each word according to the subgroup\n",
    "for i, row in train.iterrows():\n",
    "    words = stem_text(row['message'])\n",
    "    if(row['label'] == 0):\n",
    "        #Not spam\n",
    "        ham_words += len(words)\n",
    "        for w in words:\n",
    "            ham_ocurr[w]+=1\n",
    "            all_ocurr[w]+=1\n",
    "    else:\n",
    "        #print('In spam')\n",
    "        #Spam\n",
    "        spam_words += len(words)\n",
    "        for w in words:\n",
    "            spam_ocurr[w]+=1\n",
    "            all_ocurr[w]+=1\n",
    "\n",
    "total_words = spam_words + ham_words"
   ]
  },
  {
   "cell_type": "code",
   "execution_count": null,
   "id": "55e1aaf4",
   "metadata": {},
   "outputs": [
    {
     "name": "stdout",
     "output_type": "stream",
     "text": [
      "Total words: 39218\n",
      "Spam words: 9382\n",
      "Ham words: 29836\n"
     ]
    }
   ],
   "source": [
    "print(f'Total words: {total_words}')\n",
    "print(f'Spam words: {spam_words}')\n",
    "print(f'Ham words: {ham_words}')"
   ]
  },
  {
   "cell_type": "markdown",
   "id": "40c5bc52",
   "metadata": {},
   "source": [
    "## Probability "
   ]
  },
  {
   "cell_type": "markdown",
   "id": "2366ad0e",
   "metadata": {},
   "source": [
    "### Bayes Rule and Naive Bayes\n",
    "\n",
    "#### Bayes Rule  \n",
    "Bayes rule is a formula in probability that allows us to update the probability of an event based on new evidence.  \n",
    "It relates the conditional probability of \\(A\\) given \\(B\\) to the conditional probability of \\(B\\) given \\(A\\).  \n",
    "\n",
    "\n",
    "P(A|B) = (P(B|A) * P(A)) / P(B)\n",
    " \n",
    "\n",
    "It is widely used in statistics, machine learning, and decision-making under uncertainty.  \n",
    "\n",
    "---\n",
    "\n",
    "#### Naive Bayes  \n",
    "Naive Bayes is a classification method based on Bayes rule.  \n",
    "It makes the simplifying assumption that all features are **conditionally independent** given the class.  \n",
    "\n",
    "Despite this “naive” assumption, it often works surprisingly well in practice, especially for **text classification** tasks like spam filtering or sentiment analysis.\n",
    "\n",
    "We now apply Naive Bayes in the next cell."
   ]
  },
  {
   "cell_type": "code",
   "execution_count": null,
   "id": "b0807e7e",
   "metadata": {},
   "outputs": [],
   "source": [
    "#Calculating  P(w|spam), P(w|~spam) and P(w) with additive smoothing\n",
    "\n",
    "def prob_w_spam(word):\n",
    "    return spam_ocurr[word]/spam_words\n",
    "    \n",
    "def prob_w_ham(word):\n",
    "    return ham_ocurr[word]/ham_words\n",
    "\n",
    "def prob_w(word):\n",
    "    return all_ocurr[word]/total_words"
   ]
  },
  {
   "cell_type": "markdown",
   "id": "756e12b7",
   "metadata": {},
   "source": [
    "## Results"
   ]
  },
  {
   "cell_type": "code",
   "execution_count": 39,
   "id": "1e6a621b",
   "metadata": {},
   "outputs": [],
   "source": [
    "def calculate_metrics(true_pos, true_neg, false_pos, false_neg):\n",
    "    precision = true_pos / (true_pos + false_pos)\n",
    "    recall = true_pos / (true_pos + false_neg)\n",
    "    Fscore = 2 * precision * recall / (precision + recall)\n",
    "    accuracy = (true_pos + true_neg) / (true_pos + true_neg + false_pos + false_neg)\n",
    "\n",
    "    print(\"Precision: \", precision)\n",
    "    print(\"Recall: \", recall)\n",
    "    print(\"F-score: \", Fscore)\n",
    "    print(\"Accuracy: \", accuracy)"
   ]
  },
  {
   "cell_type": "code",
   "execution_count": 40,
   "id": "0b1824e1",
   "metadata": {},
   "outputs": [],
   "source": [
    "#Comparing the model in training\n",
    "\n",
    "\n",
    "def validate_performance(dataset):\n",
    "    p_spam = dataset.loc[dataset['label'] == 1].shape[0]/ dataset.shape[0]\n",
    "    p_ham = dataset.loc[dataset['label'] == 0].shape[0]/ dataset.shape[0]\n",
    "\n",
    "    true_pos = 0\n",
    "    true_neg = 0\n",
    "    false_pos = 0\n",
    "    false_neg = 0\n",
    "\n",
    "    for _, row in dataset.iterrows():\n",
    "        #print(phrase)\n",
    "        phrase = row['message']\n",
    "        phrase_stemmed = stem_text(phrase)\n",
    "        prob_spam_p = p_spam\n",
    "        prob_ham_p = p_ham\n",
    "        for w in phrase_stemmed:\n",
    "            #print(prob_w_spam(w), prob_w(w))\n",
    "            \n",
    "            if(spam_ocurr[w] != 0): #Validating that the word has appeared in the training set\n",
    "                prob_spam_p *= (prob_w_spam(w))/(prob_w(w))\n",
    "            \n",
    "            if(ham_ocurr[w] != 0): #Validating that the word has appeared in the training set\n",
    "                prob_ham_p *= (prob_w_ham(w))/(prob_w(w))\n",
    "\n",
    "            pred_label = 0\n",
    "            if(prob_spam_p>prob_ham_p): #Verifying if which probability is greater\n",
    "                pred_label = 1\n",
    "\n",
    "            if(pred_label == 1 and row['label'] == 1):\n",
    "                true_pos += 1\n",
    "            if(pred_label == 0 and row['label'] == 0):\n",
    "                true_neg += 1\n",
    "            if(pred_label == 1 and row['label'] == 0):\n",
    "                false_pos += 1\n",
    "            if(pred_label == 0 and row['label'] == 1):\n",
    "                false_neg += 1\n",
    "\n",
    "    calculate_metrics(true_pos, true_neg, false_pos, false_neg)"
   ]
  },
  {
   "cell_type": "code",
   "execution_count": 41,
   "id": "0d6491f8",
   "metadata": {},
   "outputs": [
    {
     "name": "stdout",
     "output_type": "stream",
     "text": [
      "Precision:  0.9531122745782432\n",
      "Recall:  0.8731613728416115\n",
      "F-score:  0.9113867719864273\n",
      "Accuracy:  0.9593808965271049\n"
     ]
    }
   ],
   "source": [
    "validate_performance(train)"
   ]
  },
  {
   "cell_type": "code",
   "execution_count": 42,
   "id": "b661f3be",
   "metadata": {},
   "outputs": [
    {
     "name": "stdout",
     "output_type": "stream",
     "text": [
      "Precision:  0.9192433612222627\n",
      "Recall:  0.8063178047223994\n",
      "F-score:  0.8590855005949346\n",
      "Accuracy:  0.9372730024213075\n"
     ]
    }
   ],
   "source": [
    "validate_performance(test)"
   ]
  },
  {
   "cell_type": "markdown",
   "id": "22898cfe",
   "metadata": {},
   "source": [
    "## Interpretation\n",
    "We consider that our model shows strong performance on both training and test data.\n",
    "\n",
    "Precision is high (0.95 train, 0.92 test), meaning the classifier correctly identifies most of the messages it labels as spam.\n",
    "\n",
    "Recall is slightly lower (0.87 train, 0.81 test), indicating that some spam messages are missed, but still a solid capture rate.\n",
    "\n",
    "F-score (0.91 train, 0.86 test) demonstrates a good balance between precision and recall, confirming reliable classification.\n",
    "\n",
    "Accuracy remains consistently high (0.96 train, 0.94 test), showing that the model generalizes well and avoids overfitting."
   ]
  },
  {
   "cell_type": "markdown",
   "id": "1dbd0a82",
   "metadata": {},
   "source": [
    "## Bibliography\n",
    "Uzo. (2020, October 9). Building a Spam Classifier in Python From Scratch. Medium. Retrieved [17/08/25], from https://medium.com/@uzoeze/building-spam-classifier-nlp-in-python-from-scratch-a103ffdea411\n",
    "\n",
    "thecodinguru. (n.d.). SpamControl-NLP: A Spam Classifier NLP project labeling spam messages or authentic messages (MIT License) [Repository]. GitHub. Retrieved [18/08/25], from https://github.com/thecodinguru/SpamControl-NLP\n"
   ]
  }
 ],
 "metadata": {
  "kernelspec": {
   "display_name": ".conda",
   "language": "python",
   "name": "python3"
  },
  "language_info": {
   "codemirror_mode": {
    "name": "ipython",
    "version": 3
   },
   "file_extension": ".py",
   "mimetype": "text/x-python",
   "name": "python",
   "nbconvert_exporter": "python",
   "pygments_lexer": "ipython3",
   "version": "3.11.11"
  }
 },
 "nbformat": 4,
 "nbformat_minor": 5
}
